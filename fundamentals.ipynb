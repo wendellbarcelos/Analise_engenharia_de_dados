{
 "cells": [
  {
   "cell_type": "markdown",
   "metadata": {},
   "source": [
    "### Tutoriais:\n",
    "* Dataquest: Learn Data Science\n",
    "* Kaggle: Learn Data Science\n",
    "* W3Schools: SQL Tutorial\n",
    "\n",
    "### Livros:\n",
    "* \"Python para Data Science\" - Jake VanderPlas\n",
    "* \"Hands-On Machine Learning with Scikit-Learn, Keras & TensorFlow\" - Aurélien Géron\n",
    "* \"Naked Statistics: Stripping the Dread from the Data\" - Charles Wheelan\n",
    "* \"Head First SQL\" - Lynn Beighley\n",
    "* \"SQL in Ten Minutes\" - Ben Forta\n",
    "* \"O Guia Completo do SQL\" - Rob Grainger\n",
    "\n",
    "### Dicas:\n",
    "* Comece com os conceitos básicos e vá aumentando sua dificuldade gradativamente.\n",
    "* Pratique com frequência para fixar os conceitos aprendidos.\n",
    "* Utilize ferramentas de análise de dados para aplicar os conceitos na prática.\n",
    "* Participe de comunidades online de análise de dados para trocar ideias e aprender com outros profissionais.\n",
    "* Lembre-se que o aprendizado de estatística e probabilidade é um processo contínuo. É importante ser paciente e persistente."
   ]
  },
  {
   "cell_type": "markdown",
   "metadata": {},
   "source": [
    "### SQL E NOSQL\n",
    "\n",
    "**SGBDs**:\n",
    "\n",
    "- SQLite, PostgreSQL, MongoDB, MySQL, ORACLE \n",
    "\n",
    "#### Fundamentos de SQL:\n",
    "\n",
    "- Estrutura da linguagem:\n",
    "- Seleção de dados com SELECT\n",
    "- Manipulação de dados com INSERT, UPDATE e DELETE\n",
    "- Agregação de dados com funções como SUM, AVG e COUNT\n",
    "- Filtragem de dados com WHERE\n",
    "- Ordenação de dados com ORDER BY\n",
    "\n",
    "#### Tipos de dados:\n",
    "- Números (INT, FLOAT)\n",
    "- Texto (VARCHAR, CHAR)\n",
    "- Datas (DATE, TIMESTAMP)"
   ]
  },
  {
   "cell_type": "markdown",
   "metadata": {},
   "source": [
    "________________________________________________________________________________________________________________________"
   ]
  },
  {
   "cell_type": "markdown",
   "metadata": {},
   "source": [
    "### Semana 1\n",
    "\n",
    "- Conceitos básicos: dados, bancos de dados, SGBDs.\n",
    "- Estrutura da linguagem SQL: comandos, cláusulas, funções."
   ]
  },
  {
   "cell_type": "markdown",
   "metadata": {},
   "source": [
    "O que é um dado?\n",
    "\n",
    "Um dado é um *conhecimento* que sobre alguma coisa, porem ele em si não tem efeito algum se não entendermos o porque daquele dado.\n",
    "Com esse conhecimento, chegamos a uma *conclusão*, e com essa conclusão, tomamos alguma *ação.*\n",
    "\n",
    "Hoje na era big data temos dados em todos os lugares, em uma curtida no instagram, um twitter e um posts no facebook, diariamente, o mundo gera cerca de 2,5 quintilhões de dados, mais não é somente as redes sociais que geram essa quantidade de dados, mais muitas empresas usam desses dados para chegarem em suas conclusões e tomada de decisões.\n",
    "\n",
    "Um dado processados se torna em uma informação porem precisamos de um lugar para colocar todos esses dados.\n",
    "\n",
    "Um banco de dados é um espaço que é utilizado para alocar um conjunto de varias tabela, com alguma relação entre si.\n",
    "\n",
    "SGBD - Sistema Gerenciador de Banco de Dados, utilizado para armazenar as tabelas de dados e ter todos o gerenciamanto delas, usando uma linguagem de programação única, o SQL (Structured Query Language), utilizada para armazenar, consultar, adicionar e excluir informações em um banco de dados."
   ]
  },
  {
   "cell_type": "markdown",
   "metadata": {},
   "source": [
    "#### DDL - Linguagem de Definição de Dados\n",
    "\n",
    "Usado para as funções basica de criação, deletar, atualizar"
   ]
  },
  {
   "cell_type": "code",
   "execution_count": 3,
   "metadata": {},
   "outputs": [
    {
     "data": {
      "text/plain": [
       "\" Usamos o Create para criar as tabelas, passando o tipo de cada dado e sua importancia no contexto daquela tabela.\\n\\nCREATE TABLE clientes(\\n    Id INT PRIMARY KEY AUTOINCREMENT  \\n    Nome VARCHAR(50)\\n    Data_Nasc DATE \\n    CPF INT UNIQUE\\n    Email VARCHAR(50) UNIQUE\\n    Cidade VARCHAR(50)\\n);\\n\\n# O Id está sendo a chave primaria da tabela, chave primaria é a referencia da tabela para com as outras, sendo o valor\\nque irá fazer referencia em outras tabelas, o uso do auto incremento quer dizer que o valor mesmo não sendo adicionado\\nele irá gerar um valor seguindo a sequência dos números.\\n\\n\\n\\nO Delete é usado para deletar da tabela a linha na qual é passada a condição, caso não passe a condição deletará toda a\\ntabela.\\n\\nDELETE FROM cliente WHERE Nome = 'João';\\n\\n\\n\\nO Drop é usado para deletar a tabela do banco de dados, muito cuidado no uso!\\n\\nDROP TABLE clientes;\\n\\n\\n\\nO Update é usado para modificar um dado ou coluna da tabela, sendo muito utilizado pois ele altera o tipo dos dados \\nquando necessário, assim como o valor adicionado naquela coluna. Lembre-se sempre de passar a condição!\\n\\nUPDATE tabela SET coluna = valor WHERE condição;\\n\\nUPDATE clientes    --> Na tabela clientes \\nSET Nome = 'João', Cidade = 'SÃO PAULO'  --> Modifiquei os valores de Nome e Cidade para os valores\\nWHERE Id = 3;  --> Na linha onde o Id é 3\\n\\n\\n\\nALTER usado para alterar a tabela, adicionando colunas ou alterando os seu tipo de dado.\\n\\nALTER TABLE clientes -> Altere a tabela clientes adicionando o Id como chave primaria.\\nADD PRIMARY KEY (Id)\\n\\n\""
      ]
     },
     "execution_count": 3,
     "metadata": {},
     "output_type": "execute_result"
    }
   ],
   "source": [
    "''' Usamos o Create para criar as tabelas, passando o tipo de cada dado e sua importancia no contexto daquela tabela.\n",
    "\n",
    "CREATE TABLE clientes(\n",
    "    Id INT PRIMARY KEY AUTOINCREMENT  \n",
    "    Nome VARCHAR(50)\n",
    "    Data_Nasc DATE \n",
    "    CPF INT UNIQUE\n",
    "    Email VARCHAR(50) UNIQUE\n",
    "    Cidade VARCHAR(50)\n",
    ");\n",
    "\n",
    "# O Id está sendo a chave primaria da tabela, chave primaria é a referencia da tabela para com as outras, sendo o valor\n",
    "que irá fazer referencia em outras tabelas, o uso do auto incremento quer dizer que o valor mesmo não sendo adicionado\n",
    "ele irá gerar um valor seguindo a sequência dos números.\n",
    "\n",
    "\n",
    "\n",
    "O Delete é usado para deletar da tabela a linha na qual é passada a condição, caso não passe a condição deletará toda a\n",
    "tabela.\n",
    "\n",
    "DELETE FROM cliente WHERE Nome = 'João';\n",
    "\n",
    "\n",
    "\n",
    "O Drop é usado para deletar a tabela do banco de dados, muito cuidado no uso!\n",
    "\n",
    "DROP TABLE clientes;\n",
    "\n",
    "\n",
    "\n",
    "O Update é usado para modificar um dado ou coluna da tabela, sendo muito utilizado pois ele altera o tipo dos dados \n",
    "quando necessário, assim como o valor adicionado naquela coluna. Lembre-se sempre de passar a condição!\n",
    "\n",
    "UPDATE tabela SET coluna = valor WHERE condição;\n",
    "\n",
    "UPDATE clientes    --> Na tabela clientes \n",
    "SET Nome = 'João', Cidade = 'SÃO PAULO'  --> Modifiquei os valores de Nome e Cidade para os valores\n",
    "WHERE Id = 3;  --> Na linha onde o Id é 3\n",
    "\n",
    "\n",
    "\n",
    "ALTER usado para alterar a tabela, adicionando colunas ou alterando os seu tipo de dado.\n",
    "\n",
    "ALTER TABLE clientes -> Altere a tabela clientes adicionando o Id como chave primaria.\n",
    "ADD PRIMARY KEY (Id)\n",
    "\n",
    "'''\n"
   ]
  },
  {
   "cell_type": "markdown",
   "metadata": {},
   "source": [
    "#### Primeiras consultas\n",
    "\n",
    "Comandos:\n",
    "- Select * From: Retorna todas as colunas e linhas da tabela em questão.\n",
    "- Select Limit: Limita a uma quantidade de linha que queira retornar, passando um valor.\n",
    "- Select As: Renomeia as colunas\n",
    "- Order By: Retorna os dados ordenados"
   ]
  },
  {
   "cell_type": "code",
   "execution_count": null,
   "metadata": {},
   "outputs": [],
   "source": [
    "# Selecionar toda a tabela usando o * \n",
    "\n",
    "# SELECT * FROM TABELA; -> Retornará todos os dados dentro da tabela selecionada\n",
    "\n",
    "# SELECT * FROM TABELA LIMIT 10; -> Irá retornar apenas as 10 primeiras linhas\n",
    "\n",
    "# SELECT COL1 AS \"TEST1\", COL2 AS \"TEST2\" FROM TABELA; -> Renomeia conforme desejado\n",
    "\n",
    "# SELECT * FROM TABELA ORDER BY COL2; -> Retorna os dados ordenados pela coluna 2 de forma ascendente, ASCE ou DESC\n"
   ]
  },
  {
   "cell_type": "code",
   "execution_count": null,
   "metadata": {},
   "outputs": [],
   "source": []
  },
  {
   "cell_type": "markdown",
   "metadata": {},
   "source": [
    "#### Consultas complexas:\n",
    "\n",
    "- Joins:\n",
    "- INNER JOIN\n",
    "- LEFT JOIN\n",
    "- RIGHT JOIN\n",
    "- FULL JOIN\n",
    "- Subconsultas:\n",
    "- SELECT dentro de outro SELECT\n",
    "- Funções de agregação avançadas:\n",
    "- MAX, MIN, STDDEV, VARIANCE\n",
    "- Agrupamento de dados:\n",
    "- GROUP BY\n",
    "\n",
    "**Casos de uso:**\n",
    "- Filtrar dados por data\n",
    "- Encontrar valores duplicados\n",
    "- Calcular médias e desvios padrão\n",
    "- Combinar dados de diferentes tabelas"
   ]
  },
  {
   "cell_type": "code",
   "execution_count": null,
   "metadata": {},
   "outputs": [],
   "source": []
  },
  {
   "cell_type": "code",
   "execution_count": null,
   "metadata": {},
   "outputs": [],
   "source": []
  },
  {
   "cell_type": "markdown",
   "metadata": {},
   "source": [
    "#### Otimização de consultas:\n",
    "\n",
    "- Explicador de consultas:\n",
    "- EXPLAIN\n",
    "- Índices: Criação e uso de índices para melhorar o desempenho\n",
    "- Views: Armazenamento de consultas complexas para reutilização"
   ]
  },
  {
   "cell_type": "code",
   "execution_count": null,
   "metadata": {},
   "outputs": [],
   "source": []
  },
  {
   "cell_type": "code",
   "execution_count": null,
   "metadata": {},
   "outputs": [],
   "source": []
  },
  {
   "cell_type": "markdown",
   "metadata": {},
   "source": [
    "#### Ferramentas:\n",
    "\n",
    "- MySQL: Banco de dados relacional popular\n",
    "- PostgreSQL: Banco de dados relacional robusto e escalável\n",
    "- NoSQL: Ferramentas para lidar com grandes conjuntos de dados não estruturados\n",
    "- SGBDs em nuvem: AWS RDS, Azure Database for PostgreSQL, Google Cloud SQL\n",
    "\n",
    "**Realizar exercícios e desafios online:**\n",
    "- W3Schools\n",
    "- HackerRank\n",
    "- LeetCode"
   ]
  },
  {
   "cell_type": "code",
   "execution_count": null,
   "metadata": {},
   "outputs": [],
   "source": []
  },
  {
   "cell_type": "code",
   "execution_count": null,
   "metadata": {},
   "outputs": [],
   "source": []
  },
  {
   "cell_type": "markdown",
   "metadata": {},
   "source": [
    "### Fundamentos e conceitos de Python"
   ]
  },
  {
   "cell_type": "markdown",
   "metadata": {},
   "source": [
    "**Sintaxe e Estruturas:**\n",
    "\n",
    "- Condições, loops e estruturas de controle: IF, SWITCH, FPR, WHILE\n"
   ]
  },
  {
   "cell_type": "code",
   "execution_count": null,
   "metadata": {},
   "outputs": [],
   "source": []
  },
  {
   "cell_type": "code",
   "execution_count": null,
   "metadata": {},
   "outputs": [],
   "source": []
  },
  {
   "cell_type": "markdown",
   "metadata": {},
   "source": [
    "**Estruturas de dados:**\n",
    "\n",
    "- Trabalhar com estruturas de dados fundamentais em Python: Listas, Tuplas, Dicionarios e Set"
   ]
  },
  {
   "cell_type": "code",
   "execution_count": null,
   "metadata": {},
   "outputs": [],
   "source": []
  },
  {
   "cell_type": "code",
   "execution_count": null,
   "metadata": {},
   "outputs": [],
   "source": []
  },
  {
   "cell_type": "markdown",
   "metadata": {},
   "source": [
    "**Funções:**\n",
    "\n",
    "- Sintaxe, construção e uso"
   ]
  },
  {
   "cell_type": "code",
   "execution_count": null,
   "metadata": {},
   "outputs": [],
   "source": []
  },
  {
   "cell_type": "code",
   "execution_count": null,
   "metadata": {},
   "outputs": [],
   "source": []
  },
  {
   "cell_type": "markdown",
   "metadata": {},
   "source": [
    "## Analise de dados\n",
    "\n",
    "### Estatística Descritiva\n",
    "\n",
    "* População: Conjunto completo de dados que você deseja estudar.\n",
    "* Amostra: Subconjunto da população que você coleta dados.\n",
    "* Variável: Característica que pode ser medida em cada elemento da população.\n",
    "* Tipos de variáveis:\n",
    "* Quantitativa: Pode ser medida numericamente (ex: altura, peso).\n",
    "* Qualitativa: Não pode ser medida numericamente (ex: cor, sexo).\n",
    "* Medidas descritivas:\n",
    "* Média: Soma dos valores dividida pelo número de elementos.\n",
    "* Mediana: Valor que divide a população em dois grupos com o mesmo número de elementos.\n",
    "* Moda: Valor mais frequente na população.\n",
    "* Variância: Medida que indicando \"o quão longe\" em geral os seus dados se encontram da média.\n",
    "* Desvio padrão: Medida da dispersão dos dados em torno da média.\n",
    "* Coeficiente de Correlação: Medida estatística que dimensiona o grau de relação entre duas ou mais variáveis."
   ]
  },
  {
   "cell_type": "code",
   "execution_count": 12,
   "metadata": {},
   "outputs": [],
   "source": [
    "# Introdução com as bibliotecas necessarias para fazer os calculos das medidas em python sendo elas: Statistics e Numpy \n",
    "import numpy as np\n",
    "import statistics as sts\n",
    "import pandas as pd"
   ]
  },
  {
   "attachments": {
    "image-2.png": {
     "image/png": "[encoded data removed]"
    }
   },
   "cell_type": "markdown",
   "metadata": {},
   "source": [
    "A média (Me) é calculada somando-se todos os valores de um conjunto de dados e dividindo-se pelo número de elementos deste conjunto, é a medida central mais usada, porem a média não é um valor absoluto e é facilmente influênciavel, pois se tivermos valores outliers a média não será exata. Dentro de um conjunto a média é sempre importante em suas análises. \n",
    "\n",
    "![image-2.png](attachment:image-2.png)"
   ]
  },
  {
   "cell_type": "code",
   "execution_count": 19,
   "metadata": {},
   "outputs": [
    {
     "data": {
      "text/plain": [
       "5.4"
      ]
     },
     "execution_count": 19,
     "metadata": {},
     "output_type": "execute_result"
    }
   ],
   "source": [
    "# temos um conjunto de dados com esses valores e precisamos tirar a média deles\n",
    "\n",
    "freq = [3,3,3,3,4,7,7,8,8,8]\n",
    "\n",
    "# Calculando: somando todos os valores do conjunto e dividindo pelo tamanho do conjunto\n",
    "sum(freq)/len(freq)\n",
    "\n",
    "# Usando a biblioteca\n",
    "np.mean(freq)"
   ]
  },
  {
   "cell_type": "code",
   "execution_count": 5,
   "metadata": {},
   "outputs": [
    {
     "data": {
      "text/plain": [
       "14.0"
      ]
     },
     "execution_count": 5,
     "metadata": {},
     "output_type": "execute_result"
    }
   ],
   "source": [
    "# Porem se tivermos um valor fora do padrão a média irá retornar um valor influenciado, porem a média tem o calculo exato para ambos os lados caso não tenha, temos um erro\n",
    "\n",
    "freq2 = [3,3,3,3,4,7,7,8,8,8,100]\n",
    "np.mean(freq2)"
   ]
  },
  {
   "attachments": {
    "image.png": {
     "image/png": "[encoded data removed]"
    }
   },
   "cell_type": "markdown",
   "metadata": {},
   "source": [
    "Ela indica qual é o valor que está exatamente no meio de um conjunto de dados, quando eles estão ordenados. A Mediana nos diz que metade (50%) dos valores do conjunto de dados está abaixo dela e a outra metade está acima dela. A mediano diferente a média é um valor robusto não sendo influênciado por outliers.\n",
    "\n",
    "![image.png](attachment:image.png)"
   ]
  },
  {
   "cell_type": "code",
   "execution_count": 25,
   "metadata": {},
   "outputs": [
    {
     "data": {
      "text/plain": [
       "5.5"
      ]
     },
     "execution_count": 25,
     "metadata": {},
     "output_type": "execute_result"
    }
   ],
   "source": [
    "# Usando os dados acima, qual seria a mediana do conjunto \n",
    "\n",
    "# Calculando: n é o tamanho do conjunto mais 1 dividido por 2\n",
    "(len(freq) + 1) / 2\n",
    "\n",
    "# Usando biblioteca\n",
    "np.median(freq)"
   ]
  },
  {
   "cell_type": "code",
   "execution_count": 7,
   "metadata": {},
   "outputs": [
    {
     "data": {
      "text/plain": [
       "7.0"
      ]
     },
     "execution_count": 7,
     "metadata": {},
     "output_type": "execute_result"
    }
   ],
   "source": [
    "# Usando o conjunto com outliers, podemos ver a mediana não retorna um valor absurdo pois ela só muda a posição.\n",
    "\n",
    "np.median(freq2)"
   ]
  },
  {
   "attachments": {
    "image.png": {
     "image/png": "[encoded data removed]"
    }
   },
   "cell_type": "markdown",
   "metadata": {},
   "source": [
    "A Moda (Mo) representa o valor mais frequente de um conjunto de dados, sendo assim, para defini-la basta observar a frequência com que os valores aparecem. Um conjunto de dados é chamado de bimodal quando apresenta duas modas, ou seja, dois valores são mais frequentes, caso tenha mais de duas modas se chama multimodal e caso todos os valores seja iguais o conjunto é amodal.\n",
    "\n",
    "![image.png](attachment:image.png)"
   ]
  },
  {
   "cell_type": "code",
   "execution_count": 8,
   "metadata": {},
   "outputs": [
    {
     "data": {
      "text/plain": [
       "3"
      ]
     },
     "execution_count": 8,
     "metadata": {},
     "output_type": "execute_result"
    }
   ],
   "source": [
    "# Buscando o valor de mais frequência dentro do conjunto de dados, usando a biblioteca statistics para retorno, o valor que mais aparece no conjunto é 3\n",
    "\n",
    "sts.mode(freq)"
   ]
  },
  {
   "cell_type": "markdown",
   "metadata": {},
   "source": [
    "Quartis, Assimetria e Coeficiente de Curtoses"
   ]
  },
  {
   "cell_type": "code",
   "execution_count": null,
   "metadata": {},
   "outputs": [],
   "source": []
  },
  {
   "cell_type": "code",
   "execution_count": null,
   "metadata": {},
   "outputs": [],
   "source": []
  },
  {
   "cell_type": "markdown",
   "metadata": {},
   "source": [
    "### Probabilidade:\n",
    "\n",
    "* Evento: Resultado possível de um experimento.\n",
    "* Espaço amostral: Conjunto de todos os eventos possíveis.\n",
    "* Probabilidade: Medida da chance de um evento ocorrer.\n",
    "* Regras da probabilidade:\n",
    "* A soma das probabilidades de todos os eventos possíveis é igual a 1.\n",
    "* A probabilidade da interseção de dois eventos é igual ao produto das suas probabilidades.\n",
    "* A probabilidade da união de dois eventos é igual à soma das suas probabilidades menos a probabilidade da interseção."
   ]
  },
  {
   "cell_type": "code",
   "execution_count": 2,
   "metadata": {},
   "outputs": [],
   "source": []
  },
  {
   "cell_type": "code",
   "execution_count": null,
   "metadata": {},
   "outputs": [],
   "source": []
  },
  {
   "cell_type": "code",
   "execution_count": null,
   "metadata": {},
   "outputs": [],
   "source": []
  },
  {
   "cell_type": "markdown",
   "metadata": {},
   "source": [
    "### Conceitos importantes para análise de dados:\n",
    "\n",
    "* Distribuição de frequências: Mostra a frequência de cada valor de uma variável.\n",
    "* Distribuição normal: Distribuição em forma de sino que é muito comum na natureza.\n",
    "* Teorema do limite central: Afirma que a média de uma grande quantidade de amostras aleatórias terá uma distribuição normal.\n",
    "* Teste de hipóteses: Permite testar se uma afirmação sobre a população é verdadeira.\n",
    "* Regressão linear: Modelo que permite prever o valor de uma variável dependente a partir de uma ou mais variáveis independentes."
   ]
  },
  {
   "cell_type": "code",
   "execution_count": null,
   "metadata": {},
   "outputs": [],
   "source": []
  },
  {
   "cell_type": "code",
   "execution_count": null,
   "metadata": {},
   "outputs": [],
   "source": []
  },
  {
   "cell_type": "markdown",
   "metadata": {},
   "source": [
    "### Bibliotecas para Manipulação e Análise de Dado\n",
    "\n",
    "* **NumPy**: Fornece suporte para operações matemáticas e científicas em arrays.\n",
    "* **Pandas**: Facilita a manipulação de dados em formato tabular, como leitura, limpeza, transformação e análise.\n",
    "* **Matplotlib**: Permite a criação de diversos tipos de visualizações de dados, como gráficos e tabelas.\n",
    "* **Seaborn**: Complementa o Matplotlib com visualizações mais avançadas e com foco em estética.\n",
    "* **Scikit-learn**: Implementa diversos algoritmos de Machine Learning para classificação, regressão e clustering.\n",
    "* **Statsmodels**: Oferece ferramentas para análise estatística avançada."
   ]
  },
  {
   "cell_type": "code",
   "execution_count": null,
   "metadata": {},
   "outputs": [],
   "source": []
  },
  {
   "cell_type": "code",
   "execution_count": null,
   "metadata": {},
   "outputs": [],
   "source": []
  },
  {
   "cell_type": "code",
   "execution_count": null,
   "metadata": {},
   "outputs": [],
   "source": []
  },
  {
   "cell_type": "markdown",
   "metadata": {},
   "source": [
    "### Análise de Dados\n",
    "\n",
    "- ETL\n",
    "- Manipulação de dados\n",
    "- Limpeza e Tratamento de dados\n",
    "- Análise exploratória"
   ]
  },
  {
   "cell_type": "code",
   "execution_count": null,
   "metadata": {},
   "outputs": [],
   "source": []
  },
  {
   "cell_type": "code",
   "execution_count": null,
   "metadata": {},
   "outputs": [],
   "source": []
  },
  {
   "cell_type": "code",
   "execution_count": null,
   "metadata": {},
   "outputs": [],
   "source": []
  },
  {
   "cell_type": "code",
   "execution_count": null,
   "metadata": {},
   "outputs": [],
   "source": []
  },
  {
   "cell_type": "code",
   "execution_count": null,
   "metadata": {},
   "outputs": [],
   "source": []
  },
  {
   "cell_type": "markdown",
   "metadata": {},
   "source": [
    "### Ferramentas e Técnicas Avançadas \n",
    "\n",
    "**Machine Learning**:\n",
    "- Aprender os principais algoritmos de Machine Learning (regressão linear, k-means clustering, Random Forest).\n",
    "- Treinar modelos de Machine Learning para prever e classificar dados.\n",
    "- Visualização de dados:\n",
    "- Aprender a criar visualizações de dados eficazes com bibliotecas como Seaborn e Plotly.\n",
    "- Comunicar insights e resultados de forma clara e concisa.\n",
    "\n",
    "**Big Data**:\n",
    "-  Introduzir conceitos de Big Data (Hadoop, Spark, Hive) e ferramentas para trabalhar com grandes conjuntos de dados.\n",
    "\n",
    "**Aplicação Prática**\n",
    "- Realizar projetos de análise de dados:\n",
    "- Encontrar datasets públicos em Kaggle ou outras plataformas.\n",
    "- Aplicar as habilidades aprendidas para resolver problemas reais.\n",
    "- Criar um portfólio de projetos para demonstrar suas habilidades.\n",
    "\n",
    "**Power BI**"
   ]
  },
  {
   "cell_type": "markdown",
   "metadata": {},
   "source": []
  }
 ],
 "metadata": {
  "kernelspec": {
   "display_name": "Python 3",
   "language": "python",
   "name": "python3"
  },
  "language_info": {
   "codemirror_mode": {
    "name": "ipython",
    "version": 3
   },
   "file_extension": ".py",
   "mimetype": "text/x-python",
   "name": "python",
   "nbconvert_exporter": "python",
   "pygments_lexer": "ipython3",
   "version": "3.12.1"
  }
 },
 "nbformat": 4,
 "nbformat_minor": 2
}
