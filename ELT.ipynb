{
 "cells": [
  {
   "cell_type": "markdown",
   "metadata": {},
   "source": [
    "### ELT\n",
    "\n",
    "Criar um processo de ETL pegando os dados drive tratando as necessidade e alocando no banco de dados, entender o processo do negocio e gerar um dashboard apresentando os insight."
   ]
  },
  {
   "cell_type": "markdown",
   "metadata": {},
   "source": []
  }
 ],
 "metadata": {
  "language_info": {
   "name": "python"
  }
 },
 "nbformat": 4,
 "nbformat_minor": 2
}
